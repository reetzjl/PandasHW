{
 "cells": [
  {
   "cell_type": "markdown",
   "metadata": {},
   "source": [
    "### Heroes Of Pymoli Data Analysis\n",
    "* Of the 1163 active players, the vast majority are male (84%). There also exists, a smaller, but notable proportion of female players (14%).\n",
    "\n",
    "* Our peak age demographic falls between 20-24 (44.8%) with secondary groups falling between 15-19 (18.60%) and 25-29 (13.4%).  \n",
    "-----"
   ]
  },
  {
   "cell_type": "markdown",
   "metadata": {},
   "source": [
    "### Note\n",
    "* Instructions have been included for each segment. You do not have to follow them exactly, but they are included to help you think through the steps."
   ]
  },
  {
   "cell_type": "code",
   "execution_count": 3,
   "metadata": {},
   "outputs": [],
   "source": [
    "# Dependencies and Setup\n",
    "import pandas as pd\n",
    "import numpy as np"
   ]
  },
  {
   "cell_type": "code",
   "execution_count": 4,
   "metadata": {},
   "outputs": [
    {
     "data": {
      "text/html": [
       "<div>\n",
       "<style scoped>\n",
       "    .dataframe tbody tr th:only-of-type {\n",
       "        vertical-align: middle;\n",
       "    }\n",
       "\n",
       "    .dataframe tbody tr th {\n",
       "        vertical-align: top;\n",
       "    }\n",
       "\n",
       "    .dataframe thead th {\n",
       "        text-align: right;\n",
       "    }\n",
       "</style>\n",
       "<table border=\"1\" class=\"dataframe\">\n",
       "  <thead>\n",
       "    <tr style=\"text-align: right;\">\n",
       "      <th></th>\n",
       "      <th>Purchase ID</th>\n",
       "      <th>SN</th>\n",
       "      <th>Age</th>\n",
       "      <th>Gender</th>\n",
       "      <th>Item ID</th>\n",
       "      <th>Item Name</th>\n",
       "      <th>Price</th>\n",
       "    </tr>\n",
       "  </thead>\n",
       "  <tbody>\n",
       "    <tr>\n",
       "      <th>0</th>\n",
       "      <td>0</td>\n",
       "      <td>Lisim78</td>\n",
       "      <td>20</td>\n",
       "      <td>Male</td>\n",
       "      <td>108</td>\n",
       "      <td>Extraction, Quickblade Of Trembling Hands</td>\n",
       "      <td>3.53</td>\n",
       "    </tr>\n",
       "    <tr>\n",
       "      <th>1</th>\n",
       "      <td>1</td>\n",
       "      <td>Lisovynya38</td>\n",
       "      <td>40</td>\n",
       "      <td>Male</td>\n",
       "      <td>143</td>\n",
       "      <td>Frenzied Scimitar</td>\n",
       "      <td>1.56</td>\n",
       "    </tr>\n",
       "    <tr>\n",
       "      <th>2</th>\n",
       "      <td>2</td>\n",
       "      <td>Ithergue48</td>\n",
       "      <td>24</td>\n",
       "      <td>Male</td>\n",
       "      <td>92</td>\n",
       "      <td>Final Critic</td>\n",
       "      <td>4.88</td>\n",
       "    </tr>\n",
       "    <tr>\n",
       "      <th>3</th>\n",
       "      <td>3</td>\n",
       "      <td>Chamassasya86</td>\n",
       "      <td>24</td>\n",
       "      <td>Male</td>\n",
       "      <td>100</td>\n",
       "      <td>Blindscythe</td>\n",
       "      <td>3.27</td>\n",
       "    </tr>\n",
       "    <tr>\n",
       "      <th>4</th>\n",
       "      <td>4</td>\n",
       "      <td>Iskosia90</td>\n",
       "      <td>23</td>\n",
       "      <td>Male</td>\n",
       "      <td>131</td>\n",
       "      <td>Fury</td>\n",
       "      <td>1.44</td>\n",
       "    </tr>\n",
       "  </tbody>\n",
       "</table>\n",
       "</div>"
      ],
      "text/plain": [
       "   Purchase ID             SN  Age Gender  Item ID  \\\n",
       "0            0        Lisim78   20   Male      108   \n",
       "1            1    Lisovynya38   40   Male      143   \n",
       "2            2     Ithergue48   24   Male       92   \n",
       "3            3  Chamassasya86   24   Male      100   \n",
       "4            4      Iskosia90   23   Male      131   \n",
       "\n",
       "                                   Item Name  Price  \n",
       "0  Extraction, Quickblade Of Trembling Hands   3.53  \n",
       "1                          Frenzied Scimitar   1.56  \n",
       "2                               Final Critic   4.88  \n",
       "3                                Blindscythe   3.27  \n",
       "4                                       Fury   1.44  "
      ]
     },
     "execution_count": 4,
     "metadata": {},
     "output_type": "execute_result"
    }
   ],
   "source": [
    "# File to Load (Remember to Change These)\n",
    "file = (\"../Matplot/PurchaseData.csv\")\n",
    "\n",
    "# Read Purchasing File and store into Pandas data frame\n",
    "df = pd.read_csv(file)\n",
    "df.head()"
   ]
  },
  {
   "cell_type": "markdown",
   "metadata": {},
   "source": [
    "## Player Count"
   ]
  },
  {
   "cell_type": "markdown",
   "metadata": {},
   "source": [
    "* Display the total number of players\n"
   ]
  },
  {
   "cell_type": "code",
   "execution_count": 18,
   "metadata": {},
   "outputs": [
    {
     "data": {
      "text/html": [
       "<div>\n",
       "<style scoped>\n",
       "    .dataframe tbody tr th:only-of-type {\n",
       "        vertical-align: middle;\n",
       "    }\n",
       "\n",
       "    .dataframe tbody tr th {\n",
       "        vertical-align: top;\n",
       "    }\n",
       "\n",
       "    .dataframe thead th {\n",
       "        text-align: right;\n",
       "    }\n",
       "</style>\n",
       "<table border=\"1\" class=\"dataframe\">\n",
       "  <thead>\n",
       "    <tr style=\"text-align: right;\">\n",
       "      <th></th>\n",
       "      <th>Total players</th>\n",
       "    </tr>\n",
       "  </thead>\n",
       "  <tbody>\n",
       "    <tr>\n",
       "      <th>0</th>\n",
       "      <td>576</td>\n",
       "    </tr>\n",
       "  </tbody>\n",
       "</table>\n",
       "</div>"
      ],
      "text/plain": [
       "   Total players\n",
       "0            576"
      ]
     },
     "execution_count": 18,
     "metadata": {},
     "output_type": "execute_result"
    }
   ],
   "source": [
    "# Total number of players \n",
    "TotalPlayers =len(df['SN'].unique())\n",
    "# Data Frame for num_players\n",
    "pd.DataFrame({\"Total players\": [TotalPlayers]})"
   ]
  },
  {
   "cell_type": "markdown",
   "metadata": {},
   "source": [
    "## Purchasing Analysis (Total)"
   ]
  },
  {
   "cell_type": "markdown",
   "metadata": {},
   "source": [
    "* Run basic calculations to obtain number of unique items, average price, etc.\n",
    "\n",
    "\n",
    "* Create a summary data frame to hold the results\n",
    "\n",
    "\n",
    "* Optional: give the displayed data cleaner formatting\n",
    "\n",
    "\n",
    "* Display the summary data frame\n"
   ]
  },
  {
   "cell_type": "code",
   "execution_count": 23,
   "metadata": {
    "scrolled": true
   },
   "outputs": [
    {
     "data": {
      "text/html": [
       "<div>\n",
       "<style scoped>\n",
       "    .dataframe tbody tr th:only-of-type {\n",
       "        vertical-align: middle;\n",
       "    }\n",
       "\n",
       "    .dataframe tbody tr th {\n",
       "        vertical-align: top;\n",
       "    }\n",
       "\n",
       "    .dataframe thead th {\n",
       "        text-align: right;\n",
       "    }\n",
       "</style>\n",
       "<table border=\"1\" class=\"dataframe\">\n",
       "  <thead>\n",
       "    <tr style=\"text-align: right;\">\n",
       "      <th></th>\n",
       "      <th>Unique Items</th>\n",
       "      <th>Average Price</th>\n",
       "      <th>Total Purchases</th>\n",
       "      <th>Total Revenue</th>\n",
       "    </tr>\n",
       "  </thead>\n",
       "  <tbody>\n",
       "    <tr>\n",
       "      <th>0</th>\n",
       "      <td>183</td>\n",
       "      <td>3.050987</td>\n",
       "      <td>780</td>\n",
       "      <td>2379.77</td>\n",
       "    </tr>\n",
       "  </tbody>\n",
       "</table>\n",
       "</div>"
      ],
      "text/plain": [
       "   Unique Items  Average Price  Total Purchases  Total Revenue\n",
       "0           183       3.050987              780        2379.77"
      ]
     },
     "execution_count": 23,
     "metadata": {},
     "output_type": "execute_result"
    }
   ],
   "source": [
    "UniqueItems = len(df[\"Item ID\"].unique())\n",
    "UniqueItems\n",
    "\n",
    "AvgPrice = df[\"Price\"].mean()\n",
    "AvgPrice\n",
    "\n",
    "TotalPurchases = len(df)\n",
    "TotalPurchases\n",
    "\n",
    "TotalRevenue = df[\"Price\"].sum()\n",
    "TotalRevenue\n",
    "\n",
    "Table = {\"Unique Items\": UniqueItems, \"Average Price\": AvgPrice, \"Total Purchases\": TotalPurchases, \"Total Revenue\": TotalRevenue} \n",
    "            \n",
    "Table\n",
    "\n",
    "pd.DataFrame(Table, index=[0])"
   ]
  },
  {
   "cell_type": "markdown",
   "metadata": {},
   "source": [
    "## Gender Demographics"
   ]
  },
  {
   "cell_type": "markdown",
   "metadata": {},
   "source": [
    "* Percentage and Count of Male Players\n",
    "\n",
    "\n",
    "* Percentage and Count of Female Players\n",
    "\n",
    "\n",
    "* Percentage and Count of Other / Non-Disclosed\n",
    "\n",
    "\n"
   ]
  },
  {
   "cell_type": "code",
   "execution_count": null,
   "metadata": {},
   "outputs": [],
   "source": []
  },
  {
   "cell_type": "code",
   "execution_count": 7,
   "metadata": {},
   "outputs": [
    {
     "data": {
      "text/html": [
       "<style  type=\"text/css\" >\n",
       "</style>  \n",
       "<table id=\"T_367bdfbe_055d_11e9_9d70_3cf862388532\" > \n",
       "<thead>    <tr> \n",
       "        <th class=\"blank level0\" ></th> \n",
       "        <th class=\"col_heading level0 col0\" >Total Count</th> \n",
       "        <th class=\"col_heading level0 col1\" >Percentage of Players</th> \n",
       "    </tr>    <tr> \n",
       "        <th class=\"index_name level0\" >Gender</th> \n",
       "        <th class=\"blank\" ></th> \n",
       "        <th class=\"blank\" ></th> \n",
       "    </tr></thead> \n",
       "<tbody>    <tr> \n",
       "        <th id=\"T_367bdfbe_055d_11e9_9d70_3cf862388532level0_row0\" class=\"row_heading level0 row0\" >Female</th> \n",
       "        <td id=\"T_367bdfbe_055d_11e9_9d70_3cf862388532row0_col0\" class=\"data row0 col0\" >81</td> \n",
       "        <td id=\"T_367bdfbe_055d_11e9_9d70_3cf862388532row0_col1\" class=\"data row0 col1\" >14.06%</td> \n",
       "    </tr>    <tr> \n",
       "        <th id=\"T_367bdfbe_055d_11e9_9d70_3cf862388532level0_row1\" class=\"row_heading level0 row1\" >Male</th> \n",
       "        <td id=\"T_367bdfbe_055d_11e9_9d70_3cf862388532row1_col0\" class=\"data row1 col0\" >484</td> \n",
       "        <td id=\"T_367bdfbe_055d_11e9_9d70_3cf862388532row1_col1\" class=\"data row1 col1\" >84.03%</td> \n",
       "    </tr>    <tr> \n",
       "        <th id=\"T_367bdfbe_055d_11e9_9d70_3cf862388532level0_row2\" class=\"row_heading level0 row2\" >Other / Non-Disclosed</th> \n",
       "        <td id=\"T_367bdfbe_055d_11e9_9d70_3cf862388532row2_col0\" class=\"data row2 col0\" >11</td> \n",
       "        <td id=\"T_367bdfbe_055d_11e9_9d70_3cf862388532row2_col1\" class=\"data row2 col1\" >1.91%</td> \n",
       "    </tr></tbody> \n",
       "</table> "
      ],
      "text/plain": [
       "<pandas.io.formats.style.Styler at 0x2e4af57de80>"
      ]
     },
     "execution_count": 7,
     "metadata": {},
     "output_type": "execute_result"
    }
   ],
   "source": [
    "UniqueGender = df.drop_duplicates(\"SN\")\n",
    "\n",
    "Genderdf = UniqueGender.groupby(['Gender']).count()[\"SN\"]\n",
    "Genderdf \n",
    "Percentage = Genderdf/TotalPlayers\n",
    "#Percentage = Percentage.style(\"{:.2%}\")\n",
    "\n",
    "\n",
    "GenderTable = {\"Total Count\": Genderdf, \"Percentage of Players\": Percentage}\n",
    "gender_df = pd.DataFrame(GenderTable)\n",
    "\n",
    "gender_df.style.format({\n",
    "    'Percentage of Players': '{:,.2%}'.format,\n",
    "})\n"
   ]
  },
  {
   "cell_type": "markdown",
   "metadata": {},
   "source": [
    "\n",
    "## Purchasing Analysis (Gender)"
   ]
  },
  {
   "cell_type": "markdown",
   "metadata": {},
   "source": [
    "* Run basic calculations to obtain purchase count, avg. purchase price, avg. purchase total per person etc. by gender\n",
    "\n",
    "\n",
    "\n",
    "\n",
    "* Create a summary data frame to hold the results\n",
    "\n",
    "\n",
    "* Optional: give the displayed data cleaner formatting\n",
    "\n",
    "\n",
    "* Display the summary data frame"
   ]
  },
  {
   "cell_type": "code",
   "execution_count": 104,
   "metadata": {},
   "outputs": [
    {
     "data": {
      "text/plain": [
       "Gender\n",
       "Female                    361.94\n",
       "Male                     1967.64\n",
       "Other / Non-Disclosed      50.19\n",
       "Name: Price, dtype: float64"
      ]
     },
     "execution_count": 104,
     "metadata": {},
     "output_type": "execute_result"
    }
   ],
   "source": [
    "G_TotalPurchases = df.groupby([\"Gender\"]).sum()[\"Price\"]\n",
    "G_TotalPurchases"
   ]
  },
  {
   "cell_type": "code",
   "execution_count": 106,
   "metadata": {},
   "outputs": [
    {
     "data": {
      "text/plain": [
       "Gender\n",
       "Female                   3.203009\n",
       "Male                     3.017853\n",
       "Other / Non-Disclosed    3.346000\n",
       "Name: Price, dtype: float64"
      ]
     },
     "execution_count": 106,
     "metadata": {},
     "output_type": "execute_result"
    }
   ],
   "source": [
    "G_Avg = df.groupby([\"Gender\"]).mean()[\"Price\"]\n",
    "G_Avg"
   ]
  },
  {
   "cell_type": "code",
   "execution_count": 107,
   "metadata": {},
   "outputs": [
    {
     "data": {
      "text/plain": [
       "Gender\n",
       "Female                   113\n",
       "Male                     652\n",
       "Other / Non-Disclosed     15\n",
       "Name: Price, dtype: int64"
      ]
     },
     "execution_count": 107,
     "metadata": {},
     "output_type": "execute_result"
    }
   ],
   "source": [
    "G_Counts = df.groupby([\"Gender\"]).count()[\"Price\"]\n",
    "G_Counts"
   ]
  },
  {
   "cell_type": "code",
   "execution_count": 64,
   "metadata": {},
   "outputs": [
    {
     "data": {
      "text/plain": [
       "Gender\n",
       "Female                   4.468395\n",
       "Male                     4.065372\n",
       "Other / Non-Disclosed    4.562727\n",
       "dtype: float64"
      ]
     },
     "execution_count": 64,
     "metadata": {},
     "output_type": "execute_result"
    }
   ],
   "source": [
    "G_AvgPerPerson = G_TotalPurchases / Genderdf\n",
    "G_AvgPerPerson"
   ]
  },
  {
   "cell_type": "code",
   "execution_count": 65,
   "metadata": {},
   "outputs": [
    {
     "data": {
      "text/html": [
       "<div>\n",
       "<style scoped>\n",
       "    .dataframe tbody tr th:only-of-type {\n",
       "        vertical-align: middle;\n",
       "    }\n",
       "\n",
       "    .dataframe tbody tr th {\n",
       "        vertical-align: top;\n",
       "    }\n",
       "\n",
       "    .dataframe thead th {\n",
       "        text-align: right;\n",
       "    }\n",
       "</style>\n",
       "<table border=\"1\" class=\"dataframe\">\n",
       "  <thead>\n",
       "    <tr style=\"text-align: right;\">\n",
       "      <th></th>\n",
       "      <th>Purchase Count</th>\n",
       "      <th>Average Purchase Price</th>\n",
       "      <th>Total Purchase Value</th>\n",
       "      <th>Avg Total Purchase per Person</th>\n",
       "    </tr>\n",
       "    <tr>\n",
       "      <th>Gender</th>\n",
       "      <th></th>\n",
       "      <th></th>\n",
       "      <th></th>\n",
       "      <th></th>\n",
       "    </tr>\n",
       "  </thead>\n",
       "  <tbody>\n",
       "    <tr>\n",
       "      <th>Female</th>\n",
       "      <td>113</td>\n",
       "      <td>3.203009</td>\n",
       "      <td>361.94</td>\n",
       "      <td>4.468395</td>\n",
       "    </tr>\n",
       "    <tr>\n",
       "      <th>Male</th>\n",
       "      <td>652</td>\n",
       "      <td>3.017853</td>\n",
       "      <td>1967.64</td>\n",
       "      <td>4.065372</td>\n",
       "    </tr>\n",
       "    <tr>\n",
       "      <th>Other / Non-Disclosed</th>\n",
       "      <td>15</td>\n",
       "      <td>3.346000</td>\n",
       "      <td>50.19</td>\n",
       "      <td>4.562727</td>\n",
       "    </tr>\n",
       "  </tbody>\n",
       "</table>\n",
       "</div>"
      ],
      "text/plain": [
       "                       Purchase Count  Average Purchase Price  \\\n",
       "Gender                                                          \n",
       "Female                            113                3.203009   \n",
       "Male                              652                3.017853   \n",
       "Other / Non-Disclosed              15                3.346000   \n",
       "\n",
       "                       Total Purchase Value  Avg Total Purchase per Person  \n",
       "Gender                                                                      \n",
       "Female                               361.94                       4.468395  \n",
       "Male                                1967.64                       4.065372  \n",
       "Other / Non-Disclosed                 50.19                       4.562727  "
      ]
     },
     "execution_count": 65,
     "metadata": {},
     "output_type": "execute_result"
    }
   ],
   "source": [
    "gender_data = pd.DataFrame({\"Purchase Count\": G_Counts, \n",
    "                            \"Average Purchase Price\": G_Avg,\n",
    "                            \"Total Purchase Value\": G_TotalPurchases, \n",
    "                            \"Avg Total Purchase per Person\": G_AvgPerPerson})\n",
    "\n",
    "gender_data"
   ]
  },
  {
   "cell_type": "markdown",
   "metadata": {},
   "source": [
    "## Age Demographics"
   ]
  },
  {
   "cell_type": "markdown",
   "metadata": {},
   "source": [
    "* Establish bins for ages\n",
    "\n",
    "\n",
    "* Categorize the existing players using the age bins. Hint: use pd.cut()\n",
    "\n",
    "\n",
    "* Calculate the numbers and percentages by age group\n",
    "\n",
    "\n",
    "* Create a summary data frame to hold the results\n",
    "\n",
    "\n",
    "* Optional: round the percentage column to two decimal points\n",
    "\n",
    "\n",
    "* Display Age Demographics Table\n"
   ]
  },
  {
   "cell_type": "code",
   "execution_count": 51,
   "metadata": {},
   "outputs": [
    {
     "data": {
      "text/html": [
       "<div>\n",
       "<style scoped>\n",
       "    .dataframe tbody tr th:only-of-type {\n",
       "        vertical-align: middle;\n",
       "    }\n",
       "\n",
       "    .dataframe tbody tr th {\n",
       "        vertical-align: top;\n",
       "    }\n",
       "\n",
       "    .dataframe thead th {\n",
       "        text-align: right;\n",
       "    }\n",
       "</style>\n",
       "<table border=\"1\" class=\"dataframe\">\n",
       "  <thead>\n",
       "    <tr style=\"text-align: right;\">\n",
       "      <th></th>\n",
       "      <th>Total Count</th>\n",
       "      <th>Percentage of Players</th>\n",
       "    </tr>\n",
       "    <tr>\n",
       "      <th>Age Names</th>\n",
       "      <th></th>\n",
       "      <th></th>\n",
       "    </tr>\n",
       "  </thead>\n",
       "  <tbody>\n",
       "    <tr>\n",
       "      <th>Youngest</th>\n",
       "      <td>32</td>\n",
       "      <td>0.055556</td>\n",
       "    </tr>\n",
       "    <tr>\n",
       "      <th>Teen</th>\n",
       "      <td>54</td>\n",
       "      <td>0.093750</td>\n",
       "    </tr>\n",
       "    <tr>\n",
       "      <th>YA</th>\n",
       "      <td>200</td>\n",
       "      <td>0.347222</td>\n",
       "    </tr>\n",
       "    <tr>\n",
       "      <th>Adult</th>\n",
       "      <td>325</td>\n",
       "      <td>0.564236</td>\n",
       "    </tr>\n",
       "    <tr>\n",
       "      <th>Parents</th>\n",
       "      <td>77</td>\n",
       "      <td>0.133681</td>\n",
       "    </tr>\n",
       "    <tr>\n",
       "      <th>Older</th>\n",
       "      <td>52</td>\n",
       "      <td>0.090278</td>\n",
       "    </tr>\n",
       "    <tr>\n",
       "      <th>Oldest</th>\n",
       "      <td>33</td>\n",
       "      <td>0.057292</td>\n",
       "    </tr>\n",
       "  </tbody>\n",
       "</table>\n",
       "</div>"
      ],
      "text/plain": [
       "           Total Count  Percentage of Players\n",
       "Age Names                                    \n",
       "Youngest            32               0.055556\n",
       "Teen                54               0.093750\n",
       "YA                 200               0.347222\n",
       "Adult              325               0.564236\n",
       "Parents             77               0.133681\n",
       "Older               52               0.090278\n",
       "Oldest              33               0.057292"
      ]
     },
     "execution_count": 51,
     "metadata": {},
     "output_type": "execute_result"
    }
   ],
   "source": [
    "\n",
    "# Create the bins in which Data will be held\n",
    "# Bins are 0, 60, 70, 80, 90, 100\n",
    "bins = [5, 10, 15, 20, 25, 30, 35, 40]\n",
    "\n",
    "# Create the names for the four bins\n",
    "group_names = [\"Youngest\", \"Teen\", \"YA\", \"Adult\", \"Parents\", \"Older\", \"Oldest\"]\n",
    "\n",
    "df[\"Age Names\"] = pd.cut(df[\"Age\"], bins, labels=group_names)\n",
    "df[\"Age Names\"].head()\n",
    "\n",
    "#how do i add numbers and percentages...\n",
    "AgeNames = df.groupby(['Age Names']).count()[\"Age\"]\n",
    "AgeNames \n",
    "\n",
    "AgePercentage = AgeNames / TotalPlayers\n",
    "AgePercentage\n",
    "\n",
    "AgeTable = {\"Total Count\": AgeNames, \"Percentage of Players\": AgePercentage}\n",
    "Agedf = pd.DataFrame(AgeTable)\n",
    "Agedf\n"
   ]
  },
  {
   "cell_type": "markdown",
   "metadata": {},
   "source": [
    "1. bins grouped together\n",
    "2. total players\n",
    "3. ages \n"
   ]
  },
  {
   "cell_type": "markdown",
   "metadata": {},
   "source": [
    "## Purchasing Analysis (Age)"
   ]
  },
  {
   "cell_type": "markdown",
   "metadata": {},
   "source": [
    "* Bin the purchase_data data frame by age\n",
    "\n",
    "\n",
    "* Run basic calculations to obtain purchase count, avg. purchase price, avg. purchase total per person etc. in the table below\n",
    "\n",
    "\n",
    "* Create a summary data frame to hold the results\n",
    "\n",
    "\n",
    "* Optional: give the displayed data cleaner formatting\n",
    "\n",
    "\n",
    "* Display the summary data frame"
   ]
  },
  {
   "cell_type": "code",
   "execution_count": 52,
   "metadata": {},
   "outputs": [
    {
     "data": {
      "text/plain": [
       "0        YA\n",
       "1    Oldest\n",
       "2     Adult\n",
       "3     Adult\n",
       "4     Adult\n",
       "Name: Age Names, dtype: category\n",
       "Categories (7, object): [Youngest < Teen < YA < Adult < Parents < Older < Oldest]"
      ]
     },
     "execution_count": 52,
     "metadata": {},
     "output_type": "execute_result"
    }
   ],
   "source": [
    "# Create the bins in which Data will be held\n",
    "# Bins are 0, 60, 70, 80, 90, 100\n",
    "bins = [5, 10, 15, 20, 25, 30, 35, 40]\n",
    "\n",
    "# Create the names for the four bins\n",
    "group_names = [\"Youngest\", \"Teen\", \"YA\", \"Adult\", \"Parents\", \"Older\", \"Oldest\"]\n",
    "\n",
    "df[\"Age Names\"] = pd.cut(df[\"Age\"], bins, labels=group_names)\n",
    "df[\"Age Names\"].head()\n"
   ]
  },
  {
   "cell_type": "code",
   "execution_count": 53,
   "metadata": {},
   "outputs": [
    {
     "data": {
      "text/plain": [
       "0        YA\n",
       "1    Oldest\n",
       "2     Adult\n",
       "3     Adult\n",
       "4     Adult\n",
       "Name: Age Names, dtype: category\n",
       "Categories (7, object): [Youngest < Teen < YA < Adult < Parents < Older < Oldest]"
      ]
     },
     "execution_count": 53,
     "metadata": {},
     "output_type": "execute_result"
    }
   ],
   "source": [
    "df[\"Age Names\"].head()"
   ]
  },
  {
   "cell_type": "code",
   "execution_count": 108,
   "metadata": {},
   "outputs": [
    {
     "data": {
      "text/plain": [
       "Age Names\n",
       "Youngest    3.405000\n",
       "Teen        2.900000\n",
       "YA          3.107800\n",
       "Adult       3.020431\n",
       "Parents     2.875584\n",
       "Older       2.994423\n",
       "Oldest      3.404545\n",
       "dtype: float64"
      ]
     },
     "execution_count": 108,
     "metadata": {},
     "output_type": "execute_result"
    }
   ],
   "source": [
    "A_TotalPurchases = df.groupby([\"Age Names\"]).sum()[\"Price\"]\n",
    "A_TotalPurchases \n",
    "\n",
    "A_Avg = df.groupby([\"Age Names\"]).mean()[\"Price\"]\n",
    "A_Avg\n",
    "\n",
    "A_Counts = df.groupby([\"Age Names\"]).count()[\"Price\"]\n",
    "A_Counts\n",
    "\n",
    "A_AvgPerPerson = A_TotalPurchases / AgeNames\n",
    "A_AvgPerPerson\n",
    "\n",
    "A_AvgPerPerson"
   ]
  },
  {
   "cell_type": "code",
   "execution_count": 109,
   "metadata": {},
   "outputs": [
    {
     "data": {
      "text/html": [
       "<div>\n",
       "<style scoped>\n",
       "    .dataframe tbody tr th:only-of-type {\n",
       "        vertical-align: middle;\n",
       "    }\n",
       "\n",
       "    .dataframe tbody tr th {\n",
       "        vertical-align: top;\n",
       "    }\n",
       "\n",
       "    .dataframe thead th {\n",
       "        text-align: right;\n",
       "    }\n",
       "</style>\n",
       "<table border=\"1\" class=\"dataframe\">\n",
       "  <thead>\n",
       "    <tr style=\"text-align: right;\">\n",
       "      <th></th>\n",
       "      <th>Purchase Count</th>\n",
       "      <th>Total Purchase Value</th>\n",
       "      <th>Average Purchase Price</th>\n",
       "      <th>Avg Total Purchase per Person</th>\n",
       "    </tr>\n",
       "    <tr>\n",
       "      <th>Age Names</th>\n",
       "      <th></th>\n",
       "      <th></th>\n",
       "      <th></th>\n",
       "      <th></th>\n",
       "    </tr>\n",
       "  </thead>\n",
       "  <tbody>\n",
       "    <tr>\n",
       "      <th>Youngest</th>\n",
       "      <td>32</td>\n",
       "      <td>108.96</td>\n",
       "      <td>3.405000</td>\n",
       "      <td>3.405000</td>\n",
       "    </tr>\n",
       "    <tr>\n",
       "      <th>Teen</th>\n",
       "      <td>54</td>\n",
       "      <td>156.60</td>\n",
       "      <td>2.900000</td>\n",
       "      <td>2.900000</td>\n",
       "    </tr>\n",
       "    <tr>\n",
       "      <th>YA</th>\n",
       "      <td>200</td>\n",
       "      <td>621.56</td>\n",
       "      <td>3.107800</td>\n",
       "      <td>3.107800</td>\n",
       "    </tr>\n",
       "    <tr>\n",
       "      <th>Adult</th>\n",
       "      <td>325</td>\n",
       "      <td>981.64</td>\n",
       "      <td>3.020431</td>\n",
       "      <td>3.020431</td>\n",
       "    </tr>\n",
       "    <tr>\n",
       "      <th>Parents</th>\n",
       "      <td>77</td>\n",
       "      <td>221.42</td>\n",
       "      <td>2.875584</td>\n",
       "      <td>2.875584</td>\n",
       "    </tr>\n",
       "    <tr>\n",
       "      <th>Older</th>\n",
       "      <td>52</td>\n",
       "      <td>155.71</td>\n",
       "      <td>2.994423</td>\n",
       "      <td>2.994423</td>\n",
       "    </tr>\n",
       "    <tr>\n",
       "      <th>Oldest</th>\n",
       "      <td>33</td>\n",
       "      <td>112.35</td>\n",
       "      <td>3.404545</td>\n",
       "      <td>3.404545</td>\n",
       "    </tr>\n",
       "  </tbody>\n",
       "</table>\n",
       "</div>"
      ],
      "text/plain": [
       "           Purchase Count  Total Purchase Value  Average Purchase Price  \\\n",
       "Age Names                                                                 \n",
       "Youngest               32                108.96                3.405000   \n",
       "Teen                   54                156.60                2.900000   \n",
       "YA                    200                621.56                3.107800   \n",
       "Adult                 325                981.64                3.020431   \n",
       "Parents                77                221.42                2.875584   \n",
       "Older                  52                155.71                2.994423   \n",
       "Oldest                 33                112.35                3.404545   \n",
       "\n",
       "           Avg Total Purchase per Person  \n",
       "Age Names                                 \n",
       "Youngest                        3.405000  \n",
       "Teen                            2.900000  \n",
       "YA                              3.107800  \n",
       "Adult                           3.020431  \n",
       "Parents                         2.875584  \n",
       "Older                           2.994423  \n",
       "Oldest                          3.404545  "
      ]
     },
     "execution_count": 109,
     "metadata": {},
     "output_type": "execute_result"
    }
   ],
   "source": [
    "PurchaseAnal = pd.DataFrame({\"Purchase Count\": A_Counts, \n",
    "                            \"Total Purchase Value\": A_TotalPurchases, \n",
    "                            \"Average Purchase Price\": A_Avg,\n",
    "                            \"Avg Total Purchase per Person\": A_AvgPerPerson})\n",
    "\n",
    "PurchaseAnal"
   ]
  },
  {
   "cell_type": "markdown",
   "metadata": {},
   "source": [
    "## Top Spenders"
   ]
  },
  {
   "cell_type": "markdown",
   "metadata": {},
   "source": [
    "* Run basic calculations to obtain the results in the table below\n",
    "\n",
    "\n",
    "* Create a summary data frame to hold the results\n",
    "\n",
    "\n",
    "* Sort the total purchase value column in descending order\n",
    "\n",
    "\n",
    "* Optional: give the displayed data cleaner formatting\n",
    "\n",
    "\n",
    "* Display a preview of the summary data frame\n",
    "\n"
   ]
  },
  {
   "cell_type": "code",
   "execution_count": 110,
   "metadata": {},
   "outputs": [
    {
     "data": {
      "text/plain": [
       "SN\n",
       "Adairialis76     5.1984\n",
       "Adastirin33     20.0704\n",
       "Aeda94          24.1081\n",
       "Aela59          18.6624\n",
       "Aelaria33        3.2041\n",
       "dtype: float64"
      ]
     },
     "execution_count": 110,
     "metadata": {},
     "output_type": "execute_result"
    }
   ],
   "source": [
    "Spender_Counts = df.groupby([\"SN\"]).count()[\"Price\"]\n",
    "Spender_Counts\n",
    "\n",
    "Spender_Avg = df.groupby([\"SN\"]).mean()[\"Price\"]\n",
    "Spender_Avg\n",
    "\n",
    "Spender_TotalValue = (Spender_TotalPurchases * Spender_Avg)\n",
    "Spender_TotalValue.head()\n"
   ]
  },
  {
   "cell_type": "code",
   "execution_count": 97,
   "metadata": {},
   "outputs": [
    {
     "data": {
      "text/html": [
       "<div>\n",
       "<style scoped>\n",
       "    .dataframe tbody tr th:only-of-type {\n",
       "        vertical-align: middle;\n",
       "    }\n",
       "\n",
       "    .dataframe tbody tr th {\n",
       "        vertical-align: top;\n",
       "    }\n",
       "\n",
       "    .dataframe thead th {\n",
       "        text-align: right;\n",
       "    }\n",
       "</style>\n",
       "<table border=\"1\" class=\"dataframe\">\n",
       "  <thead>\n",
       "    <tr style=\"text-align: right;\">\n",
       "      <th></th>\n",
       "      <th>Purchase Count</th>\n",
       "      <th>Total Purchase Amount</th>\n",
       "      <th>Total Purchase Value</th>\n",
       "    </tr>\n",
       "    <tr>\n",
       "      <th>SN</th>\n",
       "      <th></th>\n",
       "      <th></th>\n",
       "      <th></th>\n",
       "    </tr>\n",
       "  </thead>\n",
       "  <tbody>\n",
       "    <tr>\n",
       "      <th>Lisosia93</th>\n",
       "      <td>5</td>\n",
       "      <td>18.96</td>\n",
       "      <td>71.896320</td>\n",
       "    </tr>\n",
       "    <tr>\n",
       "      <th>Chamjask73</th>\n",
       "      <td>3</td>\n",
       "      <td>13.83</td>\n",
       "      <td>63.756300</td>\n",
       "    </tr>\n",
       "    <tr>\n",
       "      <th>Idastidru52</th>\n",
       "      <td>4</td>\n",
       "      <td>15.45</td>\n",
       "      <td>59.675625</td>\n",
       "    </tr>\n",
       "    <tr>\n",
       "      <th>Iskadarya95</th>\n",
       "      <td>3</td>\n",
       "      <td>13.10</td>\n",
       "      <td>57.203333</td>\n",
       "    </tr>\n",
       "    <tr>\n",
       "      <th>Ilarin91</th>\n",
       "      <td>3</td>\n",
       "      <td>12.70</td>\n",
       "      <td>53.763333</td>\n",
       "    </tr>\n",
       "  </tbody>\n",
       "</table>\n",
       "</div>"
      ],
      "text/plain": [
       "             Purchase Count  Total Purchase Amount  Total Purchase Value\n",
       "SN                                                                      \n",
       "Lisosia93                 5                  18.96             71.896320\n",
       "Chamjask73                3                  13.83             63.756300\n",
       "Idastidru52               4                  15.45             59.675625\n",
       "Iskadarya95               3                  13.10             57.203333\n",
       "Ilarin91                  3                  12.70             53.763333"
      ]
     },
     "execution_count": 97,
     "metadata": {},
     "output_type": "execute_result"
    }
   ],
   "source": [
    "SpenderData = pd.DataFrame({\"Purchase Count\": Spender_Counts,\n",
    "                            \"Total Purchase Amount\": Spender_TotalPurchases,\n",
    "                            \"Total Purchase Value\": Spender_TotalValue})\n",
    "\n",
    "\n",
    "SpenderData.sort_values(\"Total Purchase Value\", ascending=False).head(5)"
   ]
  },
  {
   "cell_type": "markdown",
   "metadata": {},
   "source": [
    "## Most Popular Items"
   ]
  },
  {
   "cell_type": "markdown",
   "metadata": {},
   "source": [
    "* Retrieve the Item ID, Item Name, and Item Price columns\n",
    "\n",
    "\n",
    "* Group by Item ID and Item Name. Perform calculations to obtain purchase count, item price, and total purchase value\n",
    "\n",
    "\n",
    "* Create a summary data frame to hold the results\n",
    "\n",
    "\n",
    "* Sort the purchase count column in descending order\n",
    "\n",
    "\n",
    "* Optional: give the displayed data cleaner formatting\n",
    "\n",
    "\n",
    "* Display a preview of the summary data frame\n",
    "\n"
   ]
  },
  {
   "cell_type": "code",
   "execution_count": 75,
   "metadata": {},
   "outputs": [
    {
     "data": {
      "text/plain": [
       "Item ID  Item Name         \n",
       "0        Splinter               5.12\n",
       "1        Crucifer               9.78\n",
       "2        Verdict               14.88\n",
       "3        Phantomlight          14.94\n",
       "4        Bloodlord's Fetish     8.50\n",
       "Name: Price, dtype: float64"
      ]
     },
     "execution_count": 75,
     "metadata": {},
     "output_type": "execute_result"
    }
   ],
   "source": [
    "PopularItems = df.groupby([\"Item ID\", \"Item Name\"]).sum()[\"Price\"]\n",
    "PopularItems.head()"
   ]
  },
  {
   "cell_type": "code",
   "execution_count": 93,
   "metadata": {},
   "outputs": [
    {
     "data": {
      "text/plain": [
       "Item Name\n",
       "Abyssal Shard                     13.35\n",
       "Aetherius, Boon of the Blessed    16.95\n",
       "Agatha                            18.48\n",
       "Alpha                              6.21\n",
       "Alpha, Oath of Zeal               12.15\n",
       "Name: Price, dtype: float64"
      ]
     },
     "execution_count": 93,
     "metadata": {},
     "output_type": "execute_result"
    }
   ],
   "source": [
    "Popular_TotalPurchases = df.groupby([\"Item Name\"]).sum()[\"Price\"]\n",
    "Popular_TotalPurchases.head() "
   ]
  },
  {
   "cell_type": "code",
   "execution_count": 101,
   "metadata": {},
   "outputs": [
    {
     "data": {
      "text/plain": [
       "Item Name\n",
       "Abyssal Shard                     13.35\n",
       "Aetherius, Boon of the Blessed    16.95\n",
       "Agatha                            18.48\n",
       "Alpha                              6.21\n",
       "Alpha, Oath of Zeal               12.15\n",
       "dtype: float64"
      ]
     },
     "execution_count": 101,
     "metadata": {},
     "output_type": "execute_result"
    }
   ],
   "source": [
    "Popular_Counts = df.groupby([\"Item Name\"]).count()[\"Price\"]\n",
    "Popular_Counts\n",
    "\n",
    "Popular_Avg = df.groupby([\"Item Name\"]).mean()[\"Price\"]\n",
    "Popular_Avg\n",
    "\n",
    "Popular_TotalValue = (Popular_Counts * Popular_Avg)\n",
    "Popular_TotalValue.head()"
   ]
  },
  {
   "cell_type": "code",
   "execution_count": 102,
   "metadata": {},
   "outputs": [
    {
     "data": {
      "text/html": [
       "<div>\n",
       "<style scoped>\n",
       "    .dataframe tbody tr th:only-of-type {\n",
       "        vertical-align: middle;\n",
       "    }\n",
       "\n",
       "    .dataframe tbody tr th {\n",
       "        vertical-align: top;\n",
       "    }\n",
       "\n",
       "    .dataframe thead th {\n",
       "        text-align: right;\n",
       "    }\n",
       "</style>\n",
       "<table border=\"1\" class=\"dataframe\">\n",
       "  <thead>\n",
       "    <tr style=\"text-align: right;\">\n",
       "      <th></th>\n",
       "      <th>Purchase Count</th>\n",
       "      <th>Total Purchase Amount</th>\n",
       "      <th>Total Purchase Value</th>\n",
       "    </tr>\n",
       "    <tr>\n",
       "      <th>Item Name</th>\n",
       "      <th></th>\n",
       "      <th></th>\n",
       "      <th></th>\n",
       "    </tr>\n",
       "  </thead>\n",
       "  <tbody>\n",
       "    <tr>\n",
       "      <th>Stormfury Mace</th>\n",
       "      <td>2</td>\n",
       "      <td>4.99</td>\n",
       "      <td>9.98</td>\n",
       "    </tr>\n",
       "    <tr>\n",
       "      <th>Mercy, Katana of Dismay</th>\n",
       "      <td>5</td>\n",
       "      <td>4.94</td>\n",
       "      <td>24.70</td>\n",
       "    </tr>\n",
       "    <tr>\n",
       "      <th>Hellreaver, Heirloom of Inception</th>\n",
       "      <td>3</td>\n",
       "      <td>4.93</td>\n",
       "      <td>14.79</td>\n",
       "    </tr>\n",
       "    <tr>\n",
       "      <th>Stormfury Longsword</th>\n",
       "      <td>2</td>\n",
       "      <td>4.93</td>\n",
       "      <td>9.86</td>\n",
       "    </tr>\n",
       "    <tr>\n",
       "      <th>Blazeguard, Reach of Eternity</th>\n",
       "      <td>5</td>\n",
       "      <td>4.91</td>\n",
       "      <td>24.55</td>\n",
       "    </tr>\n",
       "  </tbody>\n",
       "</table>\n",
       "</div>"
      ],
      "text/plain": [
       "                                   Purchase Count  Total Purchase Amount  \\\n",
       "Item Name                                                                  \n",
       "Stormfury Mace                                  2                   4.99   \n",
       "Mercy, Katana of Dismay                         5                   4.94   \n",
       "Hellreaver, Heirloom of Inception               3                   4.93   \n",
       "Stormfury Longsword                             2                   4.93   \n",
       "Blazeguard, Reach of Eternity                   5                   4.91   \n",
       "\n",
       "                                   Total Purchase Value  \n",
       "Item Name                                                \n",
       "Stormfury Mace                                     9.98  \n",
       "Mercy, Katana of Dismay                           24.70  \n",
       "Hellreaver, Heirloom of Inception                 14.79  \n",
       "Stormfury Longsword                                9.86  \n",
       "Blazeguard, Reach of Eternity                     24.55  "
      ]
     },
     "execution_count": 102,
     "metadata": {},
     "output_type": "execute_result"
    }
   ],
   "source": [
    "PopularData = pd.DataFrame({\"Purchase Count\": Popular_Counts,\n",
    "                            \"Total Purchase Amount\": Popular_Avg,\n",
    "                            \"Total Purchase Value\": Popular_TotalValue})\n",
    "\n",
    "PopularData.sort_values(\"Total Purchase Amount\", ascending=False).head(5)"
   ]
  },
  {
   "cell_type": "markdown",
   "metadata": {},
   "source": [
    "## Most Profitable Items"
   ]
  },
  {
   "cell_type": "markdown",
   "metadata": {},
   "source": [
    "* Sort the above table by total purchase value in descending order\n",
    "\n",
    "\n",
    "* Optional: give the displayed data cleaner formatting\n",
    "\n",
    "\n",
    "* Display a preview of the data frame\n",
    "\n"
   ]
  },
  {
   "cell_type": "code",
   "execution_count": 103,
   "metadata": {
    "scrolled": true
   },
   "outputs": [
    {
     "data": {
      "text/html": [
       "<div>\n",
       "<style scoped>\n",
       "    .dataframe tbody tr th:only-of-type {\n",
       "        vertical-align: middle;\n",
       "    }\n",
       "\n",
       "    .dataframe tbody tr th {\n",
       "        vertical-align: top;\n",
       "    }\n",
       "\n",
       "    .dataframe thead th {\n",
       "        text-align: right;\n",
       "    }\n",
       "</style>\n",
       "<table border=\"1\" class=\"dataframe\">\n",
       "  <thead>\n",
       "    <tr style=\"text-align: right;\">\n",
       "      <th></th>\n",
       "      <th>Purchase Count</th>\n",
       "      <th>Total Purchase Amount</th>\n",
       "      <th>Total Purchase Value</th>\n",
       "    </tr>\n",
       "    <tr>\n",
       "      <th>Item Name</th>\n",
       "      <th></th>\n",
       "      <th></th>\n",
       "      <th></th>\n",
       "    </tr>\n",
       "  </thead>\n",
       "  <tbody>\n",
       "    <tr>\n",
       "      <th>Final Critic</th>\n",
       "      <td>13</td>\n",
       "      <td>4.614615</td>\n",
       "      <td>59.99</td>\n",
       "    </tr>\n",
       "    <tr>\n",
       "      <th>Oathbreaker, Last Hope of the Breaking Storm</th>\n",
       "      <td>12</td>\n",
       "      <td>4.230000</td>\n",
       "      <td>50.76</td>\n",
       "    </tr>\n",
       "    <tr>\n",
       "      <th>Nirvana</th>\n",
       "      <td>9</td>\n",
       "      <td>4.900000</td>\n",
       "      <td>44.10</td>\n",
       "    </tr>\n",
       "    <tr>\n",
       "      <th>Fiery Glass Crusader</th>\n",
       "      <td>9</td>\n",
       "      <td>4.580000</td>\n",
       "      <td>41.22</td>\n",
       "    </tr>\n",
       "    <tr>\n",
       "      <th>Singed Scalpel</th>\n",
       "      <td>8</td>\n",
       "      <td>4.350000</td>\n",
       "      <td>34.80</td>\n",
       "    </tr>\n",
       "  </tbody>\n",
       "</table>\n",
       "</div>"
      ],
      "text/plain": [
       "                                              Purchase Count  \\\n",
       "Item Name                                                      \n",
       "Final Critic                                              13   \n",
       "Oathbreaker, Last Hope of the Breaking Storm              12   \n",
       "Nirvana                                                    9   \n",
       "Fiery Glass Crusader                                       9   \n",
       "Singed Scalpel                                             8   \n",
       "\n",
       "                                              Total Purchase Amount  \\\n",
       "Item Name                                                             \n",
       "Final Critic                                               4.614615   \n",
       "Oathbreaker, Last Hope of the Breaking Storm               4.230000   \n",
       "Nirvana                                                    4.900000   \n",
       "Fiery Glass Crusader                                       4.580000   \n",
       "Singed Scalpel                                             4.350000   \n",
       "\n",
       "                                              Total Purchase Value  \n",
       "Item Name                                                           \n",
       "Final Critic                                                 59.99  \n",
       "Oathbreaker, Last Hope of the Breaking Storm                 50.76  \n",
       "Nirvana                                                      44.10  \n",
       "Fiery Glass Crusader                                         41.22  \n",
       "Singed Scalpel                                               34.80  "
      ]
     },
     "execution_count": 103,
     "metadata": {},
     "output_type": "execute_result"
    }
   ],
   "source": [
    "PopularData.sort_values(\"Total Purchase Value\", ascending=False).head(5)"
   ]
  },
  {
   "cell_type": "code",
   "execution_count": null,
   "metadata": {},
   "outputs": [],
   "source": []
  }
 ],
 "metadata": {
  "anaconda-cloud": {},
  "kernel_info": {
   "name": "python3"
  },
  "kernelspec": {
   "display_name": "Python (jamie_env)",
   "language": "python",
   "name": "myenv"
  },
  "language_info": {
   "codemirror_mode": {
    "name": "ipython",
    "version": 3
   },
   "file_extension": ".py",
   "mimetype": "text/x-python",
   "name": "python",
   "nbconvert_exporter": "python",
   "pygments_lexer": "ipython3",
   "version": "3.7.0"
  },
  "nteract": {
   "version": "0.2.0"
  }
 },
 "nbformat": 4,
 "nbformat_minor": 2
}
